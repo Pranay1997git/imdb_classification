{
  "nbformat": 4,
  "nbformat_minor": 0,
  "metadata": {
    "colab": {
      "name": "imdb_lstm.ipynb",
      "provenance": []
    },
    "kernelspec": {
      "name": "python3",
      "display_name": "Python 3"
    },
    "language_info": {
      "name": "python"
    },
    "accelerator": "GPU",
    "gpuClass": "standard"
  },
  "cells": [
    {
      "cell_type": "code",
      "execution_count": 1,
      "metadata": {
        "id": "HiYoFh0l-ZC5"
      },
      "outputs": [],
      "source": [
        "import numpy as np \n",
        "import pandas as pd"
      ]
    },
    {
      "cell_type": "code",
      "source": [
        "df=pd.read_csv('/content/drive/MyDrive/nlp/datasets/IMDB_Dataset.csv')"
      ],
      "metadata": {
        "id": "HRjUvdLwXtnA"
      },
      "execution_count": 65,
      "outputs": []
    },
    {
      "cell_type": "code",
      "source": [
        "df.head(5)"
      ],
      "metadata": {
        "colab": {
          "base_uri": "https://localhost:8080/",
          "height": 206
        },
        "id": "zjuiIoKMXwcK",
        "outputId": "4ed170e6-2393-4e16-b8b3-5a9337813e17"
      },
      "execution_count": 66,
      "outputs": [
        {
          "output_type": "execute_result",
          "data": {
            "text/plain": [
              "                                              review sentiment\n",
              "0  One of the other reviewers has mentioned that ...  positive\n",
              "1  A wonderful little production. <br /><br />The...  positive\n",
              "2  I thought this was a wonderful way to spend ti...  positive\n",
              "3  Basically there's a family where a little boy ...  negative\n",
              "4  Petter Mattei's \"Love in the Time of Money\" is...  positive"
            ],
            "text/html": [
              "\n",
              "  <div id=\"df-147de977-6110-4a48-9041-d23f149e4574\">\n",
              "    <div class=\"colab-df-container\">\n",
              "      <div>\n",
              "<style scoped>\n",
              "    .dataframe tbody tr th:only-of-type {\n",
              "        vertical-align: middle;\n",
              "    }\n",
              "\n",
              "    .dataframe tbody tr th {\n",
              "        vertical-align: top;\n",
              "    }\n",
              "\n",
              "    .dataframe thead th {\n",
              "        text-align: right;\n",
              "    }\n",
              "</style>\n",
              "<table border=\"1\" class=\"dataframe\">\n",
              "  <thead>\n",
              "    <tr style=\"text-align: right;\">\n",
              "      <th></th>\n",
              "      <th>review</th>\n",
              "      <th>sentiment</th>\n",
              "    </tr>\n",
              "  </thead>\n",
              "  <tbody>\n",
              "    <tr>\n",
              "      <th>0</th>\n",
              "      <td>One of the other reviewers has mentioned that ...</td>\n",
              "      <td>positive</td>\n",
              "    </tr>\n",
              "    <tr>\n",
              "      <th>1</th>\n",
              "      <td>A wonderful little production. &lt;br /&gt;&lt;br /&gt;The...</td>\n",
              "      <td>positive</td>\n",
              "    </tr>\n",
              "    <tr>\n",
              "      <th>2</th>\n",
              "      <td>I thought this was a wonderful way to spend ti...</td>\n",
              "      <td>positive</td>\n",
              "    </tr>\n",
              "    <tr>\n",
              "      <th>3</th>\n",
              "      <td>Basically there's a family where a little boy ...</td>\n",
              "      <td>negative</td>\n",
              "    </tr>\n",
              "    <tr>\n",
              "      <th>4</th>\n",
              "      <td>Petter Mattei's \"Love in the Time of Money\" is...</td>\n",
              "      <td>positive</td>\n",
              "    </tr>\n",
              "  </tbody>\n",
              "</table>\n",
              "</div>\n",
              "      <button class=\"colab-df-convert\" onclick=\"convertToInteractive('df-147de977-6110-4a48-9041-d23f149e4574')\"\n",
              "              title=\"Convert this dataframe to an interactive table.\"\n",
              "              style=\"display:none;\">\n",
              "        \n",
              "  <svg xmlns=\"http://www.w3.org/2000/svg\" height=\"24px\"viewBox=\"0 0 24 24\"\n",
              "       width=\"24px\">\n",
              "    <path d=\"M0 0h24v24H0V0z\" fill=\"none\"/>\n",
              "    <path d=\"M18.56 5.44l.94 2.06.94-2.06 2.06-.94-2.06-.94-.94-2.06-.94 2.06-2.06.94zm-11 1L8.5 8.5l.94-2.06 2.06-.94-2.06-.94L8.5 2.5l-.94 2.06-2.06.94zm10 10l.94 2.06.94-2.06 2.06-.94-2.06-.94-.94-2.06-.94 2.06-2.06.94z\"/><path d=\"M17.41 7.96l-1.37-1.37c-.4-.4-.92-.59-1.43-.59-.52 0-1.04.2-1.43.59L10.3 9.45l-7.72 7.72c-.78.78-.78 2.05 0 2.83L4 21.41c.39.39.9.59 1.41.59.51 0 1.02-.2 1.41-.59l7.78-7.78 2.81-2.81c.8-.78.8-2.07 0-2.86zM5.41 20L4 18.59l7.72-7.72 1.47 1.35L5.41 20z\"/>\n",
              "  </svg>\n",
              "      </button>\n",
              "      \n",
              "  <style>\n",
              "    .colab-df-container {\n",
              "      display:flex;\n",
              "      flex-wrap:wrap;\n",
              "      gap: 12px;\n",
              "    }\n",
              "\n",
              "    .colab-df-convert {\n",
              "      background-color: #E8F0FE;\n",
              "      border: none;\n",
              "      border-radius: 50%;\n",
              "      cursor: pointer;\n",
              "      display: none;\n",
              "      fill: #1967D2;\n",
              "      height: 32px;\n",
              "      padding: 0 0 0 0;\n",
              "      width: 32px;\n",
              "    }\n",
              "\n",
              "    .colab-df-convert:hover {\n",
              "      background-color: #E2EBFA;\n",
              "      box-shadow: 0px 1px 2px rgba(60, 64, 67, 0.3), 0px 1px 3px 1px rgba(60, 64, 67, 0.15);\n",
              "      fill: #174EA6;\n",
              "    }\n",
              "\n",
              "    [theme=dark] .colab-df-convert {\n",
              "      background-color: #3B4455;\n",
              "      fill: #D2E3FC;\n",
              "    }\n",
              "\n",
              "    [theme=dark] .colab-df-convert:hover {\n",
              "      background-color: #434B5C;\n",
              "      box-shadow: 0px 1px 3px 1px rgba(0, 0, 0, 0.15);\n",
              "      filter: drop-shadow(0px 1px 2px rgba(0, 0, 0, 0.3));\n",
              "      fill: #FFFFFF;\n",
              "    }\n",
              "  </style>\n",
              "\n",
              "      <script>\n",
              "        const buttonEl =\n",
              "          document.querySelector('#df-147de977-6110-4a48-9041-d23f149e4574 button.colab-df-convert');\n",
              "        buttonEl.style.display =\n",
              "          google.colab.kernel.accessAllowed ? 'block' : 'none';\n",
              "\n",
              "        async function convertToInteractive(key) {\n",
              "          const element = document.querySelector('#df-147de977-6110-4a48-9041-d23f149e4574');\n",
              "          const dataTable =\n",
              "            await google.colab.kernel.invokeFunction('convertToInteractive',\n",
              "                                                     [key], {});\n",
              "          if (!dataTable) return;\n",
              "\n",
              "          const docLinkHtml = 'Like what you see? Visit the ' +\n",
              "            '<a target=\"_blank\" href=https://colab.research.google.com/notebooks/data_table.ipynb>data table notebook</a>'\n",
              "            + ' to learn more about interactive tables.';\n",
              "          element.innerHTML = '';\n",
              "          dataTable['output_type'] = 'display_data';\n",
              "          await google.colab.output.renderOutput(dataTable, element);\n",
              "          const docLink = document.createElement('div');\n",
              "          docLink.innerHTML = docLinkHtml;\n",
              "          element.appendChild(docLink);\n",
              "        }\n",
              "      </script>\n",
              "    </div>\n",
              "  </div>\n",
              "  "
            ]
          },
          "metadata": {},
          "execution_count": 66
        }
      ]
    },
    {
      "cell_type": "code",
      "source": [
        "data=pd.read_csv('/content/drive/MyDrive/nlp/datasets/IMDB_Dataset.csv')"
      ],
      "metadata": {
        "id": "joTLCj5X-_ga"
      },
      "execution_count": 2,
      "outputs": []
    },
    {
      "cell_type": "code",
      "source": [
        "data.describe()"
      ],
      "metadata": {
        "colab": {
          "base_uri": "https://localhost:8080/",
          "height": 175
        },
        "id": "LU2DEE9u-_im",
        "outputId": "8cd80ee6-7710-4271-eb07-38f30ba398c8"
      },
      "execution_count": 3,
      "outputs": [
        {
          "output_type": "execute_result",
          "data": {
            "text/plain": [
              "                                                   review sentiment\n",
              "count                                               50000     50000\n",
              "unique                                              49582         2\n",
              "top     Loved today's show!!! It was a variety and not...  positive\n",
              "freq                                                    5     25000"
            ],
            "text/html": [
              "\n",
              "  <div id=\"df-908843b0-d386-4e42-9c20-d223dd137a85\">\n",
              "    <div class=\"colab-df-container\">\n",
              "      <div>\n",
              "<style scoped>\n",
              "    .dataframe tbody tr th:only-of-type {\n",
              "        vertical-align: middle;\n",
              "    }\n",
              "\n",
              "    .dataframe tbody tr th {\n",
              "        vertical-align: top;\n",
              "    }\n",
              "\n",
              "    .dataframe thead th {\n",
              "        text-align: right;\n",
              "    }\n",
              "</style>\n",
              "<table border=\"1\" class=\"dataframe\">\n",
              "  <thead>\n",
              "    <tr style=\"text-align: right;\">\n",
              "      <th></th>\n",
              "      <th>review</th>\n",
              "      <th>sentiment</th>\n",
              "    </tr>\n",
              "  </thead>\n",
              "  <tbody>\n",
              "    <tr>\n",
              "      <th>count</th>\n",
              "      <td>50000</td>\n",
              "      <td>50000</td>\n",
              "    </tr>\n",
              "    <tr>\n",
              "      <th>unique</th>\n",
              "      <td>49582</td>\n",
              "      <td>2</td>\n",
              "    </tr>\n",
              "    <tr>\n",
              "      <th>top</th>\n",
              "      <td>Loved today's show!!! It was a variety and not...</td>\n",
              "      <td>positive</td>\n",
              "    </tr>\n",
              "    <tr>\n",
              "      <th>freq</th>\n",
              "      <td>5</td>\n",
              "      <td>25000</td>\n",
              "    </tr>\n",
              "  </tbody>\n",
              "</table>\n",
              "</div>\n",
              "      <button class=\"colab-df-convert\" onclick=\"convertToInteractive('df-908843b0-d386-4e42-9c20-d223dd137a85')\"\n",
              "              title=\"Convert this dataframe to an interactive table.\"\n",
              "              style=\"display:none;\">\n",
              "        \n",
              "  <svg xmlns=\"http://www.w3.org/2000/svg\" height=\"24px\"viewBox=\"0 0 24 24\"\n",
              "       width=\"24px\">\n",
              "    <path d=\"M0 0h24v24H0V0z\" fill=\"none\"/>\n",
              "    <path d=\"M18.56 5.44l.94 2.06.94-2.06 2.06-.94-2.06-.94-.94-2.06-.94 2.06-2.06.94zm-11 1L8.5 8.5l.94-2.06 2.06-.94-2.06-.94L8.5 2.5l-.94 2.06-2.06.94zm10 10l.94 2.06.94-2.06 2.06-.94-2.06-.94-.94-2.06-.94 2.06-2.06.94z\"/><path d=\"M17.41 7.96l-1.37-1.37c-.4-.4-.92-.59-1.43-.59-.52 0-1.04.2-1.43.59L10.3 9.45l-7.72 7.72c-.78.78-.78 2.05 0 2.83L4 21.41c.39.39.9.59 1.41.59.51 0 1.02-.2 1.41-.59l7.78-7.78 2.81-2.81c.8-.78.8-2.07 0-2.86zM5.41 20L4 18.59l7.72-7.72 1.47 1.35L5.41 20z\"/>\n",
              "  </svg>\n",
              "      </button>\n",
              "      \n",
              "  <style>\n",
              "    .colab-df-container {\n",
              "      display:flex;\n",
              "      flex-wrap:wrap;\n",
              "      gap: 12px;\n",
              "    }\n",
              "\n",
              "    .colab-df-convert {\n",
              "      background-color: #E8F0FE;\n",
              "      border: none;\n",
              "      border-radius: 50%;\n",
              "      cursor: pointer;\n",
              "      display: none;\n",
              "      fill: #1967D2;\n",
              "      height: 32px;\n",
              "      padding: 0 0 0 0;\n",
              "      width: 32px;\n",
              "    }\n",
              "\n",
              "    .colab-df-convert:hover {\n",
              "      background-color: #E2EBFA;\n",
              "      box-shadow: 0px 1px 2px rgba(60, 64, 67, 0.3), 0px 1px 3px 1px rgba(60, 64, 67, 0.15);\n",
              "      fill: #174EA6;\n",
              "    }\n",
              "\n",
              "    [theme=dark] .colab-df-convert {\n",
              "      background-color: #3B4455;\n",
              "      fill: #D2E3FC;\n",
              "    }\n",
              "\n",
              "    [theme=dark] .colab-df-convert:hover {\n",
              "      background-color: #434B5C;\n",
              "      box-shadow: 0px 1px 3px 1px rgba(0, 0, 0, 0.15);\n",
              "      filter: drop-shadow(0px 1px 2px rgba(0, 0, 0, 0.3));\n",
              "      fill: #FFFFFF;\n",
              "    }\n",
              "  </style>\n",
              "\n",
              "      <script>\n",
              "        const buttonEl =\n",
              "          document.querySelector('#df-908843b0-d386-4e42-9c20-d223dd137a85 button.colab-df-convert');\n",
              "        buttonEl.style.display =\n",
              "          google.colab.kernel.accessAllowed ? 'block' : 'none';\n",
              "\n",
              "        async function convertToInteractive(key) {\n",
              "          const element = document.querySelector('#df-908843b0-d386-4e42-9c20-d223dd137a85');\n",
              "          const dataTable =\n",
              "            await google.colab.kernel.invokeFunction('convertToInteractive',\n",
              "                                                     [key], {});\n",
              "          if (!dataTable) return;\n",
              "\n",
              "          const docLinkHtml = 'Like what you see? Visit the ' +\n",
              "            '<a target=\"_blank\" href=https://colab.research.google.com/notebooks/data_table.ipynb>data table notebook</a>'\n",
              "            + ' to learn more about interactive tables.';\n",
              "          element.innerHTML = '';\n",
              "          dataTable['output_type'] = 'display_data';\n",
              "          await google.colab.output.renderOutput(dataTable, element);\n",
              "          const docLink = document.createElement('div');\n",
              "          docLink.innerHTML = docLinkHtml;\n",
              "          element.appendChild(docLink);\n",
              "        }\n",
              "      </script>\n",
              "    </div>\n",
              "  </div>\n",
              "  "
            ]
          },
          "metadata": {},
          "execution_count": 3
        }
      ]
    },
    {
      "cell_type": "code",
      "source": [
        "data.head(5)"
      ],
      "metadata": {
        "colab": {
          "base_uri": "https://localhost:8080/",
          "height": 562
        },
        "id": "q-XL9Egz-_kd",
        "outputId": "73a5a71f-42d3-4788-8fba-584eb179c5e5"
      },
      "execution_count": 64,
      "outputs": [
        {
          "output_type": "execute_result",
          "data": {
            "text/plain": [
              "                                              review  sentiment\n",
              "0  One of the other reviewers has mentioned that ...          1\n",
              "1  A wonderful little production br br The filmin...          1\n",
              "2  I thought this was a wonderful way to spend ti...          1\n",
              "3  Basically theres a family where a little boy J...          0\n",
              "4  Petter Matteis Love in the Time of Money is a ...          1"
            ],
            "text/html": [
              "\n",
              "  <div id=\"df-c7fde439-895a-46ce-b1b0-eb230e31a06a\">\n",
              "    <div class=\"colab-df-container\">\n",
              "      <div>\n",
              "<style scoped>\n",
              "    .dataframe tbody tr th:only-of-type {\n",
              "        vertical-align: middle;\n",
              "    }\n",
              "\n",
              "    .dataframe tbody tr th {\n",
              "        vertical-align: top;\n",
              "    }\n",
              "\n",
              "    .dataframe thead th {\n",
              "        text-align: right;\n",
              "    }\n",
              "</style>\n",
              "<table border=\"1\" class=\"dataframe\">\n",
              "  <thead>\n",
              "    <tr style=\"text-align: right;\">\n",
              "      <th></th>\n",
              "      <th>review</th>\n",
              "      <th>sentiment</th>\n",
              "    </tr>\n",
              "  </thead>\n",
              "  <tbody>\n",
              "    <tr>\n",
              "      <th>0</th>\n",
              "      <td>One of the other reviewers has mentioned that ...</td>\n",
              "      <td>1</td>\n",
              "    </tr>\n",
              "    <tr>\n",
              "      <th>1</th>\n",
              "      <td>A wonderful little production br br The filmin...</td>\n",
              "      <td>1</td>\n",
              "    </tr>\n",
              "    <tr>\n",
              "      <th>2</th>\n",
              "      <td>I thought this was a wonderful way to spend ti...</td>\n",
              "      <td>1</td>\n",
              "    </tr>\n",
              "    <tr>\n",
              "      <th>3</th>\n",
              "      <td>Basically theres a family where a little boy J...</td>\n",
              "      <td>0</td>\n",
              "    </tr>\n",
              "    <tr>\n",
              "      <th>4</th>\n",
              "      <td>Petter Matteis Love in the Time of Money is a ...</td>\n",
              "      <td>1</td>\n",
              "    </tr>\n",
              "  </tbody>\n",
              "</table>\n",
              "</div>\n",
              "      <button class=\"colab-df-convert\" onclick=\"convertToInteractive('df-c7fde439-895a-46ce-b1b0-eb230e31a06a')\"\n",
              "              title=\"Convert this dataframe to an interactive table.\"\n",
              "              style=\"display:none;\">\n",
              "        \n",
              "  <svg xmlns=\"http://www.w3.org/2000/svg\" height=\"24px\"viewBox=\"0 0 24 24\"\n",
              "       width=\"24px\">\n",
              "    <path d=\"M0 0h24v24H0V0z\" fill=\"none\"/>\n",
              "    <path d=\"M18.56 5.44l.94 2.06.94-2.06 2.06-.94-2.06-.94-.94-2.06-.94 2.06-2.06.94zm-11 1L8.5 8.5l.94-2.06 2.06-.94-2.06-.94L8.5 2.5l-.94 2.06-2.06.94zm10 10l.94 2.06.94-2.06 2.06-.94-2.06-.94-.94-2.06-.94 2.06-2.06.94z\"/><path d=\"M17.41 7.96l-1.37-1.37c-.4-.4-.92-.59-1.43-.59-.52 0-1.04.2-1.43.59L10.3 9.45l-7.72 7.72c-.78.78-.78 2.05 0 2.83L4 21.41c.39.39.9.59 1.41.59.51 0 1.02-.2 1.41-.59l7.78-7.78 2.81-2.81c.8-.78.8-2.07 0-2.86zM5.41 20L4 18.59l7.72-7.72 1.47 1.35L5.41 20z\"/>\n",
              "  </svg>\n",
              "      </button>\n",
              "      \n",
              "  <style>\n",
              "    .colab-df-container {\n",
              "      display:flex;\n",
              "      flex-wrap:wrap;\n",
              "      gap: 12px;\n",
              "    }\n",
              "\n",
              "    .colab-df-convert {\n",
              "      background-color: #E8F0FE;\n",
              "      border: none;\n",
              "      border-radius: 50%;\n",
              "      cursor: pointer;\n",
              "      display: none;\n",
              "      fill: #1967D2;\n",
              "      height: 32px;\n",
              "      padding: 0 0 0 0;\n",
              "      width: 32px;\n",
              "    }\n",
              "\n",
              "    .colab-df-convert:hover {\n",
              "      background-color: #E2EBFA;\n",
              "      box-shadow: 0px 1px 2px rgba(60, 64, 67, 0.3), 0px 1px 3px 1px rgba(60, 64, 67, 0.15);\n",
              "      fill: #174EA6;\n",
              "    }\n",
              "\n",
              "    [theme=dark] .colab-df-convert {\n",
              "      background-color: #3B4455;\n",
              "      fill: #D2E3FC;\n",
              "    }\n",
              "\n",
              "    [theme=dark] .colab-df-convert:hover {\n",
              "      background-color: #434B5C;\n",
              "      box-shadow: 0px 1px 3px 1px rgba(0, 0, 0, 0.15);\n",
              "      filter: drop-shadow(0px 1px 2px rgba(0, 0, 0, 0.3));\n",
              "      fill: #FFFFFF;\n",
              "    }\n",
              "  </style>\n",
              "\n",
              "      <script>\n",
              "        const buttonEl =\n",
              "          document.querySelector('#df-c7fde439-895a-46ce-b1b0-eb230e31a06a button.colab-df-convert');\n",
              "        buttonEl.style.display =\n",
              "          google.colab.kernel.accessAllowed ? 'block' : 'none';\n",
              "\n",
              "        async function convertToInteractive(key) {\n",
              "          const element = document.querySelector('#df-c7fde439-895a-46ce-b1b0-eb230e31a06a');\n",
              "          const dataTable =\n",
              "            await google.colab.kernel.invokeFunction('convertToInteractive',\n",
              "                                                     [key], {});\n",
              "          if (!dataTable) return;\n",
              "\n",
              "          const docLinkHtml = 'Like what you see? Visit the ' +\n",
              "            '<a target=\"_blank\" href=https://colab.research.google.com/notebooks/data_table.ipynb>data table notebook</a>'\n",
              "            + ' to learn more about interactive tables.';\n",
              "          element.innerHTML = '';\n",
              "          dataTable['output_type'] = 'display_data';\n",
              "          await google.colab.output.renderOutput(dataTable, element);\n",
              "          const docLink = document.createElement('div');\n",
              "          docLink.innerHTML = docLinkHtml;\n",
              "          element.appendChild(docLink);\n",
              "        }\n",
              "      </script>\n",
              "    </div>\n",
              "  </div>\n",
              "  "
            ]
          },
          "metadata": {},
          "execution_count": 64
        }
      ]
    },
    {
      "cell_type": "code",
      "source": [
        "data.isna().sum()"
      ],
      "metadata": {
        "colab": {
          "base_uri": "https://localhost:8080/"
        },
        "id": "xYWnrBge-_mX",
        "outputId": "636c6e12-7faf-4d99-d71d-38a7eec61de9"
      },
      "execution_count": 5,
      "outputs": [
        {
          "output_type": "execute_result",
          "data": {
            "text/plain": [
              "review       0\n",
              "sentiment    0\n",
              "dtype: int64"
            ]
          },
          "metadata": {},
          "execution_count": 5
        }
      ]
    },
    {
      "cell_type": "code",
      "source": [
        "data['sentiment'].value_counts()"
      ],
      "metadata": {
        "colab": {
          "base_uri": "https://localhost:8080/"
        },
        "id": "rqu2Lk7R-_oX",
        "outputId": "2aa15d1d-bf93-49c6-da24-8064ee11939c"
      },
      "execution_count": 6,
      "outputs": [
        {
          "output_type": "execute_result",
          "data": {
            "text/plain": [
              "positive    25000\n",
              "negative    25000\n",
              "Name: sentiment, dtype: int64"
            ]
          },
          "metadata": {},
          "execution_count": 6
        }
      ]
    },
    {
      "cell_type": "code",
      "source": [
        "import re"
      ],
      "metadata": {
        "id": "5dXi5oBm-_qk"
      },
      "execution_count": 7,
      "outputs": []
    },
    {
      "cell_type": "code",
      "source": [
        "def remove_between_square_brackets(text):\n",
        "    return re.sub('\\[[^]]*\\]', '', text)"
      ],
      "metadata": {
        "id": "tkMmfssH-_tX"
      },
      "execution_count": 8,
      "outputs": []
    },
    {
      "cell_type": "code",
      "source": [
        "data[\"review\"] =data[\"review\"].apply(lambda x:remove_between_square_brackets(x))"
      ],
      "metadata": {
        "id": "JY4Jbelz-_vE"
      },
      "execution_count": 9,
      "outputs": []
    },
    {
      "cell_type": "code",
      "source": [
        "import string\n",
        "english_punctuations = string.punctuation\n",
        "punctuations_list = english_punctuations\n",
        "def cleaning_punctuations(text):\n",
        "    translator = str.maketrans('', '', punctuations_list)\n",
        "    return text.translate(translator)\n",
        "data['review']= data['review'].apply(lambda x: cleaning_punctuations(x))\n",
        "data['review'].tail()"
      ],
      "metadata": {
        "colab": {
          "base_uri": "https://localhost:8080/"
        },
        "id": "pMCX7JiB-_xf",
        "outputId": "3910e835-f4df-429b-a93a-0a91ce1cff0f"
      },
      "execution_count": 10,
      "outputs": [
        {
          "output_type": "execute_result",
          "data": {
            "text/plain": [
              "49995    I thought this movie did a down right good job...\n",
              "49996    Bad plot bad dialogue bad acting idiotic direc...\n",
              "49997    I am a Catholic taught in parochial elementary...\n",
              "49998    Im going to have to disagree with the previous...\n",
              "49999    No one expects the Star Trek movies to be high...\n",
              "Name: review, dtype: object"
            ]
          },
          "metadata": {},
          "execution_count": 10
        }
      ]
    },
    {
      "cell_type": "code",
      "source": [
        "def cleaning_numbers(data):\n",
        "    return re.sub('[0-9]+', '', data)\n",
        "data['review'] = data['review'].apply(lambda x: cleaning_numbers(x))\n",
        "data['review'].tail()"
      ],
      "metadata": {
        "colab": {
          "base_uri": "https://localhost:8080/"
        },
        "id": "KdhMY84_-_zS",
        "outputId": "918f1ab4-eb8b-4c25-ca70-ac4437cc4e2e"
      },
      "execution_count": 11,
      "outputs": [
        {
          "output_type": "execute_result",
          "data": {
            "text/plain": [
              "49995    I thought this movie did a down right good job...\n",
              "49996    Bad plot bad dialogue bad acting idiotic direc...\n",
              "49997    I am a Catholic taught in parochial elementary...\n",
              "49998    Im going to have to disagree with the previous...\n",
              "49999    No one expects the Star Trek movies to be high...\n",
              "Name: review, dtype: object"
            ]
          },
          "metadata": {},
          "execution_count": 11
        }
      ]
    },
    {
      "cell_type": "code",
      "source": [
        "def remove_special_characters(text, remove_digits=True):\n",
        "    pattern=r'[^a-zA-z0-9\\s]'\n",
        "    text=re.sub(pattern,'',text)\n",
        "    return text\n",
        "#Apply function on review column\n",
        "data['review']=data['review'].apply(remove_special_characters)"
      ],
      "metadata": {
        "id": "kiOU4Cl5-_1e"
      },
      "execution_count": 12,
      "outputs": []
    },
    {
      "cell_type": "code",
      "source": [
        "\n",
        "from sklearn.preprocessing import LabelBinarizer"
      ],
      "metadata": {
        "id": "clo3lcW6AAi_"
      },
      "execution_count": 13,
      "outputs": []
    },
    {
      "cell_type": "code",
      "source": [
        "lb=LabelBinarizer()\n",
        "data['sentiment']=lb.fit_transform(data['sentiment'])"
      ],
      "metadata": {
        "id": "F5hAccNq-_3Z"
      },
      "execution_count": 14,
      "outputs": []
    },
    {
      "cell_type": "code",
      "source": [
        "data_texts=data['review']\n",
        "data_labels=data['sentiment']"
      ],
      "metadata": {
        "id": "0z-iRhES-_5r"
      },
      "execution_count": 15,
      "outputs": []
    },
    {
      "cell_type": "code",
      "source": [
        "data_texts"
      ],
      "metadata": {
        "colab": {
          "base_uri": "https://localhost:8080/"
        },
        "id": "Cbz5CC6Q-_8O",
        "outputId": "e3c7a2b7-edf8-497f-e510-8007f20d587f"
      },
      "execution_count": 16,
      "outputs": [
        {
          "output_type": "execute_result",
          "data": {
            "text/plain": [
              "0        One of the other reviewers has mentioned that ...\n",
              "1        A wonderful little production br br The filmin...\n",
              "2        I thought this was a wonderful way to spend ti...\n",
              "3        Basically theres a family where a little boy J...\n",
              "4        Petter Matteis Love in the Time of Money is a ...\n",
              "                               ...                        \n",
              "49995    I thought this movie did a down right good job...\n",
              "49996    Bad plot bad dialogue bad acting idiotic direc...\n",
              "49997    I am a Catholic taught in parochial elementary...\n",
              "49998    Im going to have to disagree with the previous...\n",
              "49999    No one expects the Star Trek movies to be high...\n",
              "Name: review, Length: 50000, dtype: object"
            ]
          },
          "metadata": {},
          "execution_count": 16
        }
      ]
    },
    {
      "cell_type": "code",
      "source": [
        "data_labels"
      ],
      "metadata": {
        "colab": {
          "base_uri": "https://localhost:8080/"
        },
        "id": "lvmq_joB-_-e",
        "outputId": "1e82b4db-19bc-45d4-f265-2fccb2a3dc60"
      },
      "execution_count": 17,
      "outputs": [
        {
          "output_type": "execute_result",
          "data": {
            "text/plain": [
              "0        1\n",
              "1        1\n",
              "2        1\n",
              "3        0\n",
              "4        1\n",
              "        ..\n",
              "49995    1\n",
              "49996    0\n",
              "49997    0\n",
              "49998    0\n",
              "49999    0\n",
              "Name: sentiment, Length: 50000, dtype: int64"
            ]
          },
          "metadata": {},
          "execution_count": 17
        }
      ]
    },
    {
      "cell_type": "code",
      "source": [
        "from sklearn.feature_extraction.text import CountVectorizer\n",
        "from sklearn.feature_extraction.text import TfidfTransformer"
      ],
      "metadata": {
        "id": "acc6cJO__AA4"
      },
      "execution_count": 18,
      "outputs": []
    },
    {
      "cell_type": "code",
      "source": [
        "vectorizer = CountVectorizer(max_features=10,lowercase=False)\n",
        "tf_idf_transformer = TfidfTransformer()"
      ],
      "metadata": {
        "id": "niAxdidr_ADS"
      },
      "execution_count": 19,
      "outputs": []
    },
    {
      "cell_type": "code",
      "source": [
        "tf_idf = tf_idf_transformer.fit_transform(vectorizer.fit_transform(data_texts))\n",
        "x_train_weight = tf_idf.toarray()"
      ],
      "metadata": {
        "id": "JTd_Dyba_AFy"
      },
      "execution_count": 20,
      "outputs": []
    },
    {
      "cell_type": "code",
      "source": [
        "x_train_weight[1]"
      ],
      "metadata": {
        "colab": {
          "base_uri": "https://localhost:8080/"
        },
        "id": "Fkvvttkd_AIG",
        "outputId": "e1780422-284f-4c50-91ff-452264096070"
      },
      "execution_count": 21,
      "outputs": [
        {
          "output_type": "execute_result",
          "data": {
            "text/plain": [
              "array([0.38341113, 0.48529811, 0.        , 0.17588958, 0.12833449,\n",
              "       0.27733592, 0.        , 0.69326812, 0.        , 0.11197712])"
            ]
          },
          "metadata": {},
          "execution_count": 21
        }
      ]
    },
    {
      "cell_type": "code",
      "source": [
        "from sklearn.model_selection import train_test_split\n",
        "\n",
        "# Split Train and test data\n",
        "train_sentiment, test_sentiment, train_review, test_review = train_test_split(x_train_weight, data_labels, test_size=0.2, random_state=0)"
      ],
      "metadata": {
        "id": "Q-aMs-pl_AJ8"
      },
      "execution_count": 22,
      "outputs": []
    },
    {
      "cell_type": "code",
      "source": [
        "\n",
        "test_review"
      ],
      "metadata": {
        "colab": {
          "base_uri": "https://localhost:8080/"
        },
        "id": "f4_JYiWbLl_-",
        "outputId": "886ba2d3-7912-43e7-8d5b-f6fc59ac44d4"
      },
      "execution_count": 23,
      "outputs": [
        {
          "output_type": "execute_result",
          "data": {
            "text/plain": [
              "11841    1\n",
              "19602    0\n",
              "45519    0\n",
              "25747    1\n",
              "42642    1\n",
              "        ..\n",
              "25091    0\n",
              "27853    0\n",
              "47278    1\n",
              "37020    1\n",
              "2217     0\n",
              "Name: sentiment, Length: 10000, dtype: int64"
            ]
          },
          "metadata": {},
          "execution_count": 23
        }
      ]
    },
    {
      "cell_type": "code",
      "source": [
        "from keras.models import Sequential\n",
        "from keras.layers import Dense\n",
        "from keras.layers import LSTM"
      ],
      "metadata": {
        "id": "O8q04q50_AMG"
      },
      "execution_count": 24,
      "outputs": []
    },
    {
      "cell_type": "code",
      "source": [
        "import tensorflow as tf\n",
        "from tensorflow import keras\n",
        "from tensorflow.keras import layers"
      ],
      "metadata": {
        "id": "7_cLCwOKKtz0"
      },
      "execution_count": 25,
      "outputs": []
    },
    {
      "cell_type": "code",
      "source": [
        "model =tf.keras.models.Sequential()\n",
        "model.add(tf.keras.layers.LSTM(50,dropout=0.2))\n",
        "model.add(Dense(1,activation='sigmoid'))"
      ],
      "metadata": {
        "id": "MR6-L068_AOf"
      },
      "execution_count": 26,
      "outputs": []
    },
    {
      "cell_type": "code",
      "source": [
        "model.compile(loss='binary_crossentropy',optimizer='adam',metrics=['accuracy'])"
      ],
      "metadata": {
        "id": "3nqIT5Uk_AQ1"
      },
      "execution_count": 27,
      "outputs": []
    },
    {
      "cell_type": "code",
      "source": [
        "train_sentiment.shape"
      ],
      "metadata": {
        "colab": {
          "base_uri": "https://localhost:8080/"
        },
        "id": "LYcyS4jAH5i_",
        "outputId": "bd4d8ec7-4db6-4be9-f0e6-4796dc6dd8eb"
      },
      "execution_count": 28,
      "outputs": [
        {
          "output_type": "execute_result",
          "data": {
            "text/plain": [
              "(40000, 10)"
            ]
          },
          "metadata": {},
          "execution_count": 28
        }
      ]
    },
    {
      "cell_type": "code",
      "source": [
        "x_train=np.array(train_sentiment).reshape((train_sentiment.shape[0],train_sentiment.shape[1],1))"
      ],
      "metadata": {
        "id": "wf7iYo3iKeTe"
      },
      "execution_count": 30,
      "outputs": []
    },
    {
      "cell_type": "code",
      "source": [
        "x_test=np.array(test_sentiment).reshape((test_sentiment.shape[0],test_sentiment.shape[1],1))"
      ],
      "metadata": {
        "id": "_hb7LXp0KuOc"
      },
      "execution_count": 31,
      "outputs": []
    },
    {
      "cell_type": "code",
      "source": [
        "from keras.preprocessing import sequence"
      ],
      "metadata": {
        "id": "F2VvKd0vOgNJ"
      },
      "execution_count": 33,
      "outputs": []
    },
    {
      "cell_type": "code",
      "source": [
        "model.fit(x_train,train_review,batch_size=10,epochs=100,validation_data=(x_test,test_review))"
      ],
      "metadata": {
        "colab": {
          "base_uri": "https://localhost:8080/"
        },
        "id": "XWo-qvZFX90w",
        "outputId": "5193bdf6-5c13-483a-91a7-35a7b39e493d"
      },
      "execution_count": 67,
      "outputs": [
        {
          "output_type": "stream",
          "name": "stdout",
          "text": [
            "Epoch 1/100\n",
            "4000/4000 [==============================] - 19s 5ms/step - loss: 0.6729 - accuracy: 0.5814 - val_loss: 0.6760 - val_accuracy: 0.5843\n",
            "Epoch 2/100\n",
            "4000/4000 [==============================] - 18s 4ms/step - loss: 0.6724 - accuracy: 0.5829 - val_loss: 0.6761 - val_accuracy: 0.5688\n",
            "Epoch 3/100\n",
            "4000/4000 [==============================] - 19s 5ms/step - loss: 0.6719 - accuracy: 0.5847 - val_loss: 0.6773 - val_accuracy: 0.5663\n",
            "Epoch 4/100\n",
            "4000/4000 [==============================] - 18s 4ms/step - loss: 0.6714 - accuracy: 0.5864 - val_loss: 0.6710 - val_accuracy: 0.5927\n",
            "Epoch 5/100\n",
            "4000/4000 [==============================] - 19s 5ms/step - loss: 0.6715 - accuracy: 0.5843 - val_loss: 0.6728 - val_accuracy: 0.5949\n",
            "Epoch 6/100\n",
            "4000/4000 [==============================] - 19s 5ms/step - loss: 0.6719 - accuracy: 0.5843 - val_loss: 0.6731 - val_accuracy: 0.5876\n",
            "Epoch 7/100\n",
            "4000/4000 [==============================] - 18s 4ms/step - loss: 0.6719 - accuracy: 0.5835 - val_loss: 0.6760 - val_accuracy: 0.5741\n",
            "Epoch 8/100\n",
            "4000/4000 [==============================] - 18s 4ms/step - loss: 0.6707 - accuracy: 0.5865 - val_loss: 0.6703 - val_accuracy: 0.5874\n",
            "Epoch 9/100\n",
            "4000/4000 [==============================] - 20s 5ms/step - loss: 0.6720 - accuracy: 0.5824 - val_loss: 0.6736 - val_accuracy: 0.5842\n",
            "Epoch 10/100\n",
            "4000/4000 [==============================] - 19s 5ms/step - loss: 0.6715 - accuracy: 0.5842 - val_loss: 0.6762 - val_accuracy: 0.5731\n",
            "Epoch 11/100\n",
            "4000/4000 [==============================] - 18s 5ms/step - loss: 0.6719 - accuracy: 0.5846 - val_loss: 0.6736 - val_accuracy: 0.5825\n",
            "Epoch 12/100\n",
            "4000/4000 [==============================] - 18s 4ms/step - loss: 0.6708 - accuracy: 0.5865 - val_loss: 0.6772 - val_accuracy: 0.5699\n",
            "Epoch 13/100\n",
            "4000/4000 [==============================] - 19s 5ms/step - loss: 0.6712 - accuracy: 0.5865 - val_loss: 0.6739 - val_accuracy: 0.5885\n",
            "Epoch 14/100\n",
            "4000/4000 [==============================] - 19s 5ms/step - loss: 0.6709 - accuracy: 0.5850 - val_loss: 0.6762 - val_accuracy: 0.5667\n",
            "Epoch 15/100\n",
            "4000/4000 [==============================] - 18s 4ms/step - loss: 0.6710 - accuracy: 0.5859 - val_loss: 0.6709 - val_accuracy: 0.5878\n",
            "Epoch 16/100\n",
            "4000/4000 [==============================] - 19s 5ms/step - loss: 0.6700 - accuracy: 0.5878 - val_loss: 0.6730 - val_accuracy: 0.5865\n",
            "Epoch 17/100\n",
            "4000/4000 [==============================] - 18s 4ms/step - loss: 0.6708 - accuracy: 0.5858 - val_loss: 0.6786 - val_accuracy: 0.5688\n",
            "Epoch 18/100\n",
            "4000/4000 [==============================] - 18s 4ms/step - loss: 0.6712 - accuracy: 0.5868 - val_loss: 0.6737 - val_accuracy: 0.5855\n",
            "Epoch 19/100\n",
            "4000/4000 [==============================] - 18s 4ms/step - loss: 0.6715 - accuracy: 0.5858 - val_loss: 0.6729 - val_accuracy: 0.5866\n",
            "Epoch 20/100\n",
            "4000/4000 [==============================] - 19s 5ms/step - loss: 0.6717 - accuracy: 0.5836 - val_loss: 0.6725 - val_accuracy: 0.5912\n",
            "Epoch 21/100\n",
            "4000/4000 [==============================] - 18s 4ms/step - loss: 0.6698 - accuracy: 0.5881 - val_loss: 0.6811 - val_accuracy: 0.5581\n",
            "Epoch 22/100\n",
            "4000/4000 [==============================] - 18s 4ms/step - loss: 0.6705 - accuracy: 0.5871 - val_loss: 0.6789 - val_accuracy: 0.5679\n",
            "Epoch 23/100\n",
            "4000/4000 [==============================] - 19s 5ms/step - loss: 0.6703 - accuracy: 0.5864 - val_loss: 0.6794 - val_accuracy: 0.5620\n",
            "Epoch 24/100\n",
            "4000/4000 [==============================] - 18s 4ms/step - loss: 0.6686 - accuracy: 0.5892 - val_loss: 0.6729 - val_accuracy: 0.5854\n",
            "Epoch 25/100\n",
            "4000/4000 [==============================] - 18s 4ms/step - loss: 0.6708 - accuracy: 0.5871 - val_loss: 0.6781 - val_accuracy: 0.5716\n",
            "Epoch 26/100\n",
            "4000/4000 [==============================] - 18s 4ms/step - loss: 0.6695 - accuracy: 0.5902 - val_loss: 0.6740 - val_accuracy: 0.5805\n",
            "Epoch 27/100\n",
            "4000/4000 [==============================] - 19s 5ms/step - loss: 0.6688 - accuracy: 0.5881 - val_loss: 0.6789 - val_accuracy: 0.5692\n",
            "Epoch 28/100\n",
            "4000/4000 [==============================] - 18s 5ms/step - loss: 0.6681 - accuracy: 0.5893 - val_loss: 0.6719 - val_accuracy: 0.5891\n",
            "Epoch 29/100\n",
            "4000/4000 [==============================] - 18s 4ms/step - loss: 0.6700 - accuracy: 0.5862 - val_loss: 0.6703 - val_accuracy: 0.5920\n",
            "Epoch 30/100\n",
            "4000/4000 [==============================] - 20s 5ms/step - loss: 0.6690 - accuracy: 0.5903 - val_loss: 0.6736 - val_accuracy: 0.5843\n",
            "Epoch 31/100\n",
            "4000/4000 [==============================] - 18s 4ms/step - loss: 0.6697 - accuracy: 0.5875 - val_loss: 0.6770 - val_accuracy: 0.5781\n",
            "Epoch 32/100\n",
            "4000/4000 [==============================] - 18s 4ms/step - loss: 0.6693 - accuracy: 0.5884 - val_loss: 0.6781 - val_accuracy: 0.5678\n",
            "Epoch 33/100\n",
            "4000/4000 [==============================] - 20s 5ms/step - loss: 0.6687 - accuracy: 0.5899 - val_loss: 0.6760 - val_accuracy: 0.5777\n",
            "Epoch 34/100\n",
            "4000/4000 [==============================] - 18s 4ms/step - loss: 0.6694 - accuracy: 0.5885 - val_loss: 0.6779 - val_accuracy: 0.5756\n",
            "Epoch 35/100\n",
            "4000/4000 [==============================] - 18s 4ms/step - loss: 0.6684 - accuracy: 0.5926 - val_loss: 0.6723 - val_accuracy: 0.5931\n",
            "Epoch 36/100\n",
            "4000/4000 [==============================] - 18s 4ms/step - loss: 0.6686 - accuracy: 0.5871 - val_loss: 0.6733 - val_accuracy: 0.5840\n",
            "Epoch 37/100\n",
            "4000/4000 [==============================] - 19s 5ms/step - loss: 0.6688 - accuracy: 0.5900 - val_loss: 0.6777 - val_accuracy: 0.5676\n",
            "Epoch 38/100\n",
            "4000/4000 [==============================] - 18s 4ms/step - loss: 0.6694 - accuracy: 0.5874 - val_loss: 0.6748 - val_accuracy: 0.5806\n",
            "Epoch 39/100\n",
            "4000/4000 [==============================] - 18s 4ms/step - loss: 0.6679 - accuracy: 0.5910 - val_loss: 0.6755 - val_accuracy: 0.5817\n",
            "Epoch 40/100\n",
            "4000/4000 [==============================] - 18s 4ms/step - loss: 0.6686 - accuracy: 0.5887 - val_loss: 0.6727 - val_accuracy: 0.5855\n",
            "Epoch 41/100\n",
            "4000/4000 [==============================] - 19s 5ms/step - loss: 0.6695 - accuracy: 0.5884 - val_loss: 0.6735 - val_accuracy: 0.5844\n",
            "Epoch 42/100\n",
            "4000/4000 [==============================] - 18s 4ms/step - loss: 0.6678 - accuracy: 0.5885 - val_loss: 0.6748 - val_accuracy: 0.5800\n",
            "Epoch 43/100\n",
            "4000/4000 [==============================] - 17s 4ms/step - loss: 0.6676 - accuracy: 0.5915 - val_loss: 0.6757 - val_accuracy: 0.5806\n",
            "Epoch 44/100\n",
            "4000/4000 [==============================] - 19s 5ms/step - loss: 0.6677 - accuracy: 0.5907 - val_loss: 0.6759 - val_accuracy: 0.5734\n",
            "Epoch 45/100\n",
            "4000/4000 [==============================] - 19s 5ms/step - loss: 0.6673 - accuracy: 0.5902 - val_loss: 0.6734 - val_accuracy: 0.5811\n",
            "Epoch 46/100\n",
            "4000/4000 [==============================] - 18s 4ms/step - loss: 0.6677 - accuracy: 0.5921 - val_loss: 0.6765 - val_accuracy: 0.5736\n",
            "Epoch 47/100\n",
            "4000/4000 [==============================] - 22s 5ms/step - loss: 0.6678 - accuracy: 0.5899 - val_loss: 0.6753 - val_accuracy: 0.5753\n",
            "Epoch 48/100\n",
            "4000/4000 [==============================] - 18s 4ms/step - loss: 0.6683 - accuracy: 0.5893 - val_loss: 0.6747 - val_accuracy: 0.5835\n",
            "Epoch 49/100\n",
            "4000/4000 [==============================] - 18s 4ms/step - loss: 0.6667 - accuracy: 0.5905 - val_loss: 0.6720 - val_accuracy: 0.5876\n",
            "Epoch 50/100\n",
            "4000/4000 [==============================] - 18s 4ms/step - loss: 0.6671 - accuracy: 0.5916 - val_loss: 0.6744 - val_accuracy: 0.5829\n",
            "Epoch 51/100\n",
            "4000/4000 [==============================] - 19s 5ms/step - loss: 0.6676 - accuracy: 0.5921 - val_loss: 0.6726 - val_accuracy: 0.5888\n",
            "Epoch 52/100\n",
            "4000/4000 [==============================] - 18s 4ms/step - loss: 0.6680 - accuracy: 0.5870 - val_loss: 0.6728 - val_accuracy: 0.5823\n",
            "Epoch 53/100\n",
            "4000/4000 [==============================] - 18s 4ms/step - loss: 0.6672 - accuracy: 0.5922 - val_loss: 0.6753 - val_accuracy: 0.5785\n",
            "Epoch 54/100\n",
            "4000/4000 [==============================] - 19s 5ms/step - loss: 0.6681 - accuracy: 0.5899 - val_loss: 0.6736 - val_accuracy: 0.5815\n",
            "Epoch 55/100\n",
            "4000/4000 [==============================] - 18s 4ms/step - loss: 0.6671 - accuracy: 0.5912 - val_loss: 0.6814 - val_accuracy: 0.5678\n",
            "Epoch 56/100\n",
            "4000/4000 [==============================] - 18s 4ms/step - loss: 0.6670 - accuracy: 0.5935 - val_loss: 0.6735 - val_accuracy: 0.5832\n",
            "Epoch 57/100\n",
            "4000/4000 [==============================] - 18s 4ms/step - loss: 0.6672 - accuracy: 0.5921 - val_loss: 0.6726 - val_accuracy: 0.5859\n",
            "Epoch 58/100\n",
            "4000/4000 [==============================] - 19s 5ms/step - loss: 0.6673 - accuracy: 0.5910 - val_loss: 0.6729 - val_accuracy: 0.5841\n",
            "Epoch 59/100\n",
            "4000/4000 [==============================] - 18s 4ms/step - loss: 0.6672 - accuracy: 0.5914 - val_loss: 0.6743 - val_accuracy: 0.5800\n",
            "Epoch 60/100\n",
            "4000/4000 [==============================] - 18s 4ms/step - loss: 0.6664 - accuracy: 0.5920 - val_loss: 0.6720 - val_accuracy: 0.5859\n",
            "Epoch 61/100\n",
            "4000/4000 [==============================] - 20s 5ms/step - loss: 0.6658 - accuracy: 0.5931 - val_loss: 0.6752 - val_accuracy: 0.5808\n",
            "Epoch 62/100\n",
            "4000/4000 [==============================] - 18s 4ms/step - loss: 0.6673 - accuracy: 0.5926 - val_loss: 0.6773 - val_accuracy: 0.5736\n",
            "Epoch 63/100\n",
            "4000/4000 [==============================] - 18s 4ms/step - loss: 0.6666 - accuracy: 0.5891 - val_loss: 0.6736 - val_accuracy: 0.5804\n",
            "Epoch 64/100\n",
            "4000/4000 [==============================] - 18s 4ms/step - loss: 0.6660 - accuracy: 0.5932 - val_loss: 0.6742 - val_accuracy: 0.5840\n",
            "Epoch 65/100\n",
            "4000/4000 [==============================] - 19s 5ms/step - loss: 0.6666 - accuracy: 0.5914 - val_loss: 0.6760 - val_accuracy: 0.5771\n",
            "Epoch 66/100\n",
            "4000/4000 [==============================] - 18s 4ms/step - loss: 0.6661 - accuracy: 0.5946 - val_loss: 0.6730 - val_accuracy: 0.5862\n",
            "Epoch 67/100\n",
            "4000/4000 [==============================] - 18s 5ms/step - loss: 0.6662 - accuracy: 0.5927 - val_loss: 0.6728 - val_accuracy: 0.5820\n",
            "Epoch 68/100\n",
            "4000/4000 [==============================] - 19s 5ms/step - loss: 0.6655 - accuracy: 0.5929 - val_loss: 0.6737 - val_accuracy: 0.5829\n",
            "Epoch 69/100\n",
            "4000/4000 [==============================] - 18s 4ms/step - loss: 0.6653 - accuracy: 0.5928 - val_loss: 0.6737 - val_accuracy: 0.5818\n",
            "Epoch 70/100\n",
            "4000/4000 [==============================] - 18s 5ms/step - loss: 0.6666 - accuracy: 0.5919 - val_loss: 0.6744 - val_accuracy: 0.5805\n",
            "Epoch 71/100\n",
            "4000/4000 [==============================] - 18s 5ms/step - loss: 0.6664 - accuracy: 0.5928 - val_loss: 0.6746 - val_accuracy: 0.5813\n",
            "Epoch 72/100\n",
            "4000/4000 [==============================] - 19s 5ms/step - loss: 0.6659 - accuracy: 0.5935 - val_loss: 0.6734 - val_accuracy: 0.5846\n",
            "Epoch 73/100\n",
            "4000/4000 [==============================] - 18s 4ms/step - loss: 0.6653 - accuracy: 0.5940 - val_loss: 0.6769 - val_accuracy: 0.5740\n",
            "Epoch 74/100\n",
            "4000/4000 [==============================] - 18s 4ms/step - loss: 0.6651 - accuracy: 0.5958 - val_loss: 0.6735 - val_accuracy: 0.5825\n",
            "Epoch 75/100\n",
            "4000/4000 [==============================] - 19s 5ms/step - loss: 0.6659 - accuracy: 0.5906 - val_loss: 0.6753 - val_accuracy: 0.5833\n",
            "Epoch 76/100\n",
            "4000/4000 [==============================] - 18s 4ms/step - loss: 0.6648 - accuracy: 0.5954 - val_loss: 0.6766 - val_accuracy: 0.5771\n",
            "Epoch 77/100\n",
            "4000/4000 [==============================] - 19s 5ms/step - loss: 0.6652 - accuracy: 0.5947 - val_loss: 0.6741 - val_accuracy: 0.5815\n",
            "Epoch 78/100\n",
            "4000/4000 [==============================] - 18s 5ms/step - loss: 0.6660 - accuracy: 0.5933 - val_loss: 0.6741 - val_accuracy: 0.5798\n",
            "Epoch 79/100\n",
            "4000/4000 [==============================] - 19s 5ms/step - loss: 0.6646 - accuracy: 0.5949 - val_loss: 0.6742 - val_accuracy: 0.5835\n",
            "Epoch 80/100\n",
            "4000/4000 [==============================] - 18s 4ms/step - loss: 0.6656 - accuracy: 0.5954 - val_loss: 0.6746 - val_accuracy: 0.5788\n",
            "Epoch 81/100\n",
            "4000/4000 [==============================] - 18s 4ms/step - loss: 0.6654 - accuracy: 0.5954 - val_loss: 0.6765 - val_accuracy: 0.5735\n",
            "Epoch 82/100\n",
            "4000/4000 [==============================] - 19s 5ms/step - loss: 0.6636 - accuracy: 0.5971 - val_loss: 0.6756 - val_accuracy: 0.5831\n",
            "Epoch 83/100\n",
            "4000/4000 [==============================] - 18s 4ms/step - loss: 0.6640 - accuracy: 0.5953 - val_loss: 0.6721 - val_accuracy: 0.5894\n",
            "Epoch 84/100\n",
            "4000/4000 [==============================] - 18s 4ms/step - loss: 0.6646 - accuracy: 0.5931 - val_loss: 0.6759 - val_accuracy: 0.5778\n",
            "Epoch 85/100\n",
            "4000/4000 [==============================] - 18s 4ms/step - loss: 0.6633 - accuracy: 0.5993 - val_loss: 0.6766 - val_accuracy: 0.5784\n",
            "Epoch 86/100\n",
            "4000/4000 [==============================] - 19s 5ms/step - loss: 0.6637 - accuracy: 0.5974 - val_loss: 0.6757 - val_accuracy: 0.5830\n",
            "Epoch 87/100\n",
            "4000/4000 [==============================] - 18s 5ms/step - loss: 0.6631 - accuracy: 0.5979 - val_loss: 0.6759 - val_accuracy: 0.5779\n",
            "Epoch 88/100\n",
            "4000/4000 [==============================] - 18s 5ms/step - loss: 0.6653 - accuracy: 0.5939 - val_loss: 0.6749 - val_accuracy: 0.5840\n",
            "Epoch 89/100\n",
            "4000/4000 [==============================] - 19s 5ms/step - loss: 0.6633 - accuracy: 0.5953 - val_loss: 0.6763 - val_accuracy: 0.5750\n",
            "Epoch 90/100\n",
            "4000/4000 [==============================] - 18s 5ms/step - loss: 0.6633 - accuracy: 0.5957 - val_loss: 0.6786 - val_accuracy: 0.5746\n",
            "Epoch 91/100\n",
            "4000/4000 [==============================] - 18s 5ms/step - loss: 0.6645 - accuracy: 0.5936 - val_loss: 0.6791 - val_accuracy: 0.5687\n",
            "Epoch 92/100\n",
            "4000/4000 [==============================] - 19s 5ms/step - loss: 0.6636 - accuracy: 0.5950 - val_loss: 0.6785 - val_accuracy: 0.5739\n",
            "Epoch 93/100\n",
            "4000/4000 [==============================] - 19s 5ms/step - loss: 0.6631 - accuracy: 0.5974 - val_loss: 0.6797 - val_accuracy: 0.5716\n",
            "Epoch 94/100\n",
            "4000/4000 [==============================] - 18s 4ms/step - loss: 0.6627 - accuracy: 0.5986 - val_loss: 0.6785 - val_accuracy: 0.5715\n",
            "Epoch 95/100\n",
            "4000/4000 [==============================] - 18s 5ms/step - loss: 0.6639 - accuracy: 0.5954 - val_loss: 0.6746 - val_accuracy: 0.5842\n",
            "Epoch 96/100\n",
            "4000/4000 [==============================] - 19s 5ms/step - loss: 0.6630 - accuracy: 0.5945 - val_loss: 0.6746 - val_accuracy: 0.5821\n",
            "Epoch 97/100\n",
            "4000/4000 [==============================] - 18s 5ms/step - loss: 0.6648 - accuracy: 0.5945 - val_loss: 0.6753 - val_accuracy: 0.5827\n",
            "Epoch 98/100\n",
            "4000/4000 [==============================] - 18s 5ms/step - loss: 0.6637 - accuracy: 0.5996 - val_loss: 0.6759 - val_accuracy: 0.5801\n",
            "Epoch 99/100\n",
            "4000/4000 [==============================] - 20s 5ms/step - loss: 0.6642 - accuracy: 0.5949 - val_loss: 0.6732 - val_accuracy: 0.5846\n",
            "Epoch 100/100\n",
            "4000/4000 [==============================] - 18s 5ms/step - loss: 0.6618 - accuracy: 0.6010 - val_loss: 0.6785 - val_accuracy: 0.5718\n"
          ]
        },
        {
          "output_type": "execute_result",
          "data": {
            "text/plain": [
              "<keras.callbacks.History at 0x7f03f25677d0>"
            ]
          },
          "metadata": {},
          "execution_count": 67
        }
      ]
    },
    {
      "cell_type": "code",
      "source": [
        "from keras.preprocessing.text import Tokenizer"
      ],
      "metadata": {
        "id": "dgmRZkkOOs9c"
      },
      "execution_count": 55,
      "outputs": []
    },
    {
      "cell_type": "code",
      "source": [
        "random =[ \"The movie was very touching and heart whelming\"]"
      ],
      "metadata": {
        "id": "3AnEwhnP_AX9"
      },
      "execution_count": 59,
      "outputs": []
    },
    {
      "cell_type": "code",
      "source": [
        "tf_idf = tf_idf_transformer.fit_transform(vectorizer.fit_transform(random))\n",
        "test = tf_idf.toarray()"
      ],
      "metadata": {
        "id": "ZcQRwRCl_Ahg"
      },
      "execution_count": 60,
      "outputs": []
    },
    {
      "cell_type": "code",
      "source": [
        "test"
      ],
      "metadata": {
        "id": "wx5NttzW_Aj7",
        "colab": {
          "base_uri": "https://localhost:8080/"
        },
        "outputId": "6ec38d0c-a261-407d-9352-5d53afb3b5b5"
      },
      "execution_count": 61,
      "outputs": [
        {
          "output_type": "execute_result",
          "data": {
            "text/plain": [
              "array([[0.35355339, 0.35355339, 0.35355339, 0.35355339, 0.35355339,\n",
              "        0.35355339, 0.35355339, 0.35355339]])"
            ]
          },
          "metadata": {},
          "execution_count": 61
        }
      ]
    },
    {
      "cell_type": "code",
      "source": [
        "model.predict(test)"
      ],
      "metadata": {
        "id": "r4Be2vCV_Aou",
        "colab": {
          "base_uri": "https://localhost:8080/"
        },
        "outputId": "6a07f95a-9748-414d-cded-069507f15190"
      },
      "execution_count": 69,
      "outputs": [
        {
          "output_type": "execute_result",
          "data": {
            "text/plain": [
              "array([[0.49313244]], dtype=float32)"
            ]
          },
          "metadata": {},
          "execution_count": 69
        }
      ]
    },
    {
      "cell_type": "code",
      "source": [
        ""
      ],
      "metadata": {
        "id": "-9AwJZet_ArF"
      },
      "execution_count": null,
      "outputs": []
    },
    {
      "cell_type": "code",
      "source": [
        ""
      ],
      "metadata": {
        "id": "hMP0Bg_I_Atd"
      },
      "execution_count": null,
      "outputs": []
    }
  ]
}